{
 "cells": [
  {
   "cell_type": "markdown",
   "id": "d063956b",
   "metadata": {},
   "source": [
    "# STRING METHODS WITH EXAMPLES"
   ]
  },
  {
   "cell_type": "markdown",
   "id": "91e63a95",
   "metadata": {},
   "source": [
    "## 1) str.capitalize()"
   ]
  },
  {
   "cell_type": "markdown",
   "id": "975e23b8",
   "metadata": {},
   "source": [
    "#### The capitalize() method returns a new string where:\n",
    "\n",
    "#### The first character is uppercase.\n",
    "\n",
    "#### The rest of the string is lowercase.\n",
    "\n",
    "#### Example:-"
   ]
  },
  {
   "cell_type": "code",
   "execution_count": null,
   "id": "7560b6ae-b5c1-4b96-a169-838971a3f5d0",
   "metadata": {},
   "outputs": [
    {
     "name": "stdout",
     "output_type": "stream",
     "text": [
      "Hello world\n"
     ]
    }
   ],
   "source": [
    "string = \"hello world\"\n",
    "string = string.capitalize()\n",
    "print(string)"
   ]
  },
  {
   "cell_type": "markdown",
   "id": "990422a9",
   "metadata": {},
   "source": [
    "## 2) str.casefold()"
   ]
  },
  {
   "cell_type": "markdown",
   "id": "7c4e79bd",
   "metadata": {},
   "source": [
    "#### The casefold() method returns a case-insensitive version of the string, optimized for aggressive lowercasing — more powerful than lower().\n",
    "\n",
    "#### It’s primarily used for case-insensitive comparisons, especially useful for international characters.\n",
    "\n",
    "#### Example:-"
   ]
  },
  {
   "cell_type": "code",
   "execution_count": null,
   "id": "367fbdb5-5b69-43a2-852c-8a8ef1b05b87",
   "metadata": {},
   "outputs": [
    {
     "name": "stdout",
     "output_type": "stream",
     "text": [
      "True\n"
     ]
    }
   ],
   "source": [
    "s1 = \"straße\"\n",
    "s2 = \"STRASSE\"\n",
    "\n",
    "print(s1.casefold() == s2.casefold())\n"
   ]
  },
  {
   "cell_type": "markdown",
   "id": "b5134136",
   "metadata": {},
   "source": [
    "## 3) str.center(width[, fillchar]) "
   ]
  },
  {
   "cell_type": "markdown",
   "id": "4afb145c",
   "metadata": {},
   "source": [
    "#### The center() method returns a new string of the specified width, where the original string is centered, and the rest is padded with a specified character (default is a space).\n",
    "\n",
    "#### Example:-"
   ]
  },
  {
   "cell_type": "code",
   "execution_count": null,
   "id": "3a414fed-530b-42d6-9f64-9dd895649355",
   "metadata": {},
   "outputs": [
    {
     "name": "stdout",
     "output_type": "stream",
     "text": [
      "@@@@@python@@@@@\n"
     ]
    }
   ],
   "source": [
    "string = \"python\"\n",
    "print(string.center(16,\"@\"))"
   ]
  },
  {
   "cell_type": "markdown",
   "id": "6bb0c146",
   "metadata": {},
   "source": [
    "## 4) str.count(sub[, start[, end]])"
   ]
  },
  {
   "cell_type": "markdown",
   "id": "d3765cc7",
   "metadata": {},
   "source": [
    "#### The count() method returns the number of non-overlapping occurrences of a substring in a string.\n",
    "#### You can also specify the start and end index positions to search within a part of the string.\n",
    "\n",
    "#### Example:-"
   ]
  },
  {
   "cell_type": "code",
   "execution_count": null,
   "id": "0182525b-176b-4909-8933-d9002ac1f49b",
   "metadata": {},
   "outputs": [
    {
     "name": "stdout",
     "output_type": "stream",
     "text": [
      "6\n",
      "0\n"
     ]
    }
   ],
   "source": [
    "my_string =\"hii how are YYYYYYOU\"\n",
    "print(my_string.count(\"Y\"))\n",
    "print(my_string.count(\"how\",12,len(my_string))) \n"
   ]
  },
  {
   "cell_type": "markdown",
   "id": "ac3e6546",
   "metadata": {},
   "source": [
    "## 5) str.encode(encoding=\"utf-8\",errors=\"strict\")"
   ]
  },
  {
   "cell_type": "markdown",
   "id": "2acbb367",
   "metadata": {},
   "source": [
    "#### The encode() method encodes a string into a bytes object, using the specified encoding format (default is \"utf-8\").\n",
    "\n",
    "#### Example:-"
   ]
  },
  {
   "cell_type": "code",
   "execution_count": null,
   "id": "6f4ec5ac-39f8-40cb-87a2-34dcb8ae813d",
   "metadata": {},
   "outputs": [
    {
     "name": "stdout",
     "output_type": "stream",
     "text": [
      "b'caf\\xc3\\xa9'\n",
      "b'caf?'\n",
      "b'caf'\n"
     ]
    }
   ],
   "source": [
    "text = \"café\"\n",
    "print(text.encode(\"utf-8\"))     \n",
    "print(text.encode(\"ascii\", errors=\"replace\"))  \n",
    "print(text.encode(\"ascii\", errors=\"ignore\"))   \n"
   ]
  },
  {
   "cell_type": "markdown",
   "id": "c58f2030",
   "metadata": {},
   "source": [
    "## 6) str.endswith(suffix[, start[, end]])"
   ]
  },
  {
   "cell_type": "markdown",
   "id": "1f2c5dd9",
   "metadata": {},
   "source": [
    "#### The endswith() method checks whether a string ends with the specified suffix, optionally within a given range.\n",
    "\n",
    "#### Example:-"
   ]
  },
  {
   "cell_type": "code",
   "execution_count": null,
   "id": "876c38bb-19a7-4fdc-b54f-d93bb4b8ca37",
   "metadata": {},
   "outputs": [
    {
     "name": "stdout",
     "output_type": "stream",
     "text": [
      "True\n"
     ]
    }
   ],
   "source": [
    "my_string = \"jupyter\"\n",
    "print(my_string.endswith(\"r\"))"
   ]
  },
  {
   "cell_type": "markdown",
   "id": "343d219c",
   "metadata": {},
   "source": [
    "## 7) str.expandtabs(tabsize=8) "
   ]
  },
  {
   "cell_type": "markdown",
   "id": "e6575e1b",
   "metadata": {},
   "source": [
    "#### The expandtabs() method replaces all tab characters (\\t) in a string with the appropriate number of spaces, using a specified tab size.\n",
    "\n",
    "#### Example:-"
   ]
  },
  {
   "cell_type": "code",
   "execution_count": null,
   "id": "c4b702cd-fae7-4b37-8723-17247007e520",
   "metadata": {},
   "outputs": [
    {
     "name": "stdout",
     "output_type": "stream",
     "text": [
      "python  Rocks\n"
     ]
    }
   ],
   "source": [
    "text = \"python\\tRocks\"\n",
    "print(text.expandtabs(8))\n"
   ]
  },
  {
   "cell_type": "markdown",
   "id": "1e8f8304",
   "metadata": {},
   "source": [
    "## 8) str.find(sub[, start[, end]])"
   ]
  },
  {
   "cell_type": "markdown",
   "id": "b3e6f6f7",
   "metadata": {},
   "source": [
    "#### The find() method returns the lowest index (first occurrence) of the substring sub in the string.\n",
    "#### If the substring is not found, it returns -1.\n",
    "\n",
    "#### Example:-"
   ]
  },
  {
   "cell_type": "code",
   "execution_count": null,
   "id": "679de06b-48a5-44e4-9009-4817b6c131c1",
   "metadata": {},
   "outputs": [
    {
     "name": "stdout",
     "output_type": "stream",
     "text": [
      "0\n",
      "5\n",
      "-1\n",
      "8\n"
     ]
    }
   ],
   "source": [
    "my_string = \"hi Hero how are you\"\n",
    "print(my_string.find(\"h\"))  \n",
    "print(my_string.find(\"r\"))  \n",
    "print(my_string.find(\"z\"))  \n",
    "print(my_string.find(\"how\"))"
   ]
  },
  {
   "cell_type": "markdown",
   "id": "58e71641",
   "metadata": {},
   "source": [
    "## 9) str.format(*args, **kwargs) "
   ]
  },
  {
   "cell_type": "markdown",
   "id": "8977bf7f",
   "metadata": {},
   "source": [
    "#### The format() method lets you insert values inside a string using placeholders {}. It's a powerful way to build dynamic strings.\n",
    "#### Example:-"
   ]
  },
  {
   "cell_type": "code",
   "execution_count": null,
   "id": "17d60132-f662-4a12-bfa2-dff3359aa149",
   "metadata": {},
   "outputs": [
    {
     "name": "stdout",
     "output_type": "stream",
     "text": [
      "Hello, Sneha!\n"
     ]
    }
   ],
   "source": [
    "msg = \"Hello, {}!\"\n",
    "print(msg.format(\"Sneha\"))"
   ]
  },
  {
   "cell_type": "markdown",
   "id": "5db80a21",
   "metadata": {},
   "source": [
    "## 10) str.format_map(mapping)"
   ]
  },
  {
   "cell_type": "markdown",
   "id": "3048034e",
   "metadata": {},
   "source": [
    "#### The str.format_map() method is similar to str.format(), but it only works with dictionaries (mapping objects) to format strings.\n",
    "#### It inserts values into placeholders {} using keys from the given dictionary.\n",
    "\n",
    "#### example:-"
   ]
  },
  {
   "cell_type": "code",
   "execution_count": null,
   "id": "92ceada0-b2d2-458d-bbef-993c473d7b4d",
   "metadata": {},
   "outputs": [
    {
     "name": "stdout",
     "output_type": "stream",
     "text": [
      "My name is Sneha and I am 18 years old.\n"
     ]
    }
   ],
   "source": [
    "data = {\"name\": \"Sneha\", \"age\": 18}\n",
    "result = \"My name is {name} and I am {age} years old.\".format_map(data)\n",
    "print(result)"
   ]
  },
  {
   "cell_type": "markdown",
   "id": "31477980",
   "metadata": {},
   "source": [
    "## 11) str.index(sub[, start[, end]]) "
   ]
  },
  {
   "cell_type": "markdown",
   "id": "8e4d5325",
   "metadata": {},
   "source": [
    "#### The str.index() method searches for a substring (sub) in a string and returns the index of its first occurrence.\n",
    "#### If the substring is not found, it raises a ValueError.\n",
    "\n",
    "#### Example:-"
   ]
  },
  {
   "cell_type": "code",
   "execution_count": null,
   "id": "8ceddd7b-4640-4e83-9a6d-1d565eb4bcc9",
   "metadata": {},
   "outputs": [
    {
     "name": "stdout",
     "output_type": "stream",
     "text": [
      "9\n"
     ]
    }
   ],
   "source": [
    "text = \"Python programming\"\n",
    "print(text.index(\"o\", 5, 15))  \n"
   ]
  },
  {
   "cell_type": "markdown",
   "id": "96771728",
   "metadata": {},
   "source": [
    "## 12) str.isalnum() "
   ]
  },
  {
   "cell_type": "markdown",
   "id": "17522b62",
   "metadata": {},
   "source": [
    "#### The isalnum() method checks whether all characters in a string are alphanumeric — that is, letters (A–Z, a–z) or digits (0–9).\n",
    "\n",
    "#### Example:-"
   ]
  },
  {
   "cell_type": "code",
   "execution_count": null,
   "id": "51e5c98d-05b4-4f65-aa87-9c26257d0414",
   "metadata": {},
   "outputs": [
    {
     "name": "stdout",
     "output_type": "stream",
     "text": [
      "True\n",
      "True\n",
      "True\n",
      "False\n"
     ]
    }
   ],
   "source": [
    "my_string1 = \"hello123\"\n",
    "my_string2 = \"12345\"\n",
    "my_string3 = \"Hello\"\n",
    "my_string4 = \"hello world\"\n",
    "\n",
    "print(my_string1.isalnum())  \n",
    "print(my_string2.isalnum())  \n",
    "print(my_string3.isalnum())  \n",
    "print(my_string4.isalnum())  \n"
   ]
  },
  {
   "cell_type": "markdown",
   "id": "bb6582fe",
   "metadata": {},
   "source": [
    "## 13) str.isalpha()"
   ]
  },
  {
   "cell_type": "markdown",
   "id": "41aaedd7",
   "metadata": {},
   "source": [
    "#### The isalpha() method checks if all characters in a string are alphabetic (A–Z or a–z). It returns True only if the string has only letters and is not empty.\n",
    "\n",
    "#### Example:-"
   ]
  },
  {
   "cell_type": "code",
   "execution_count": null,
   "id": "3af7bdde-0d67-44ae-b233-2da6da08dd20",
   "metadata": {},
   "outputs": [
    {
     "name": "stdout",
     "output_type": "stream",
     "text": [
      "True\n",
      "False\n",
      "False\n"
     ]
    }
   ],
   "source": [
    "my_string1 = \"hello\"\n",
    "my_string2 = \"hello123\"\n",
    "my_string3 = \"12345\"\n",
    "\n",
    "print(my_string1.isalpha())  \n",
    "print(my_string2.isalpha())  \n",
    "print(my_string3.isalpha())  \n"
   ]
  },
  {
   "cell_type": "markdown",
   "id": "b89235a3",
   "metadata": {},
   "source": [
    "## 14)  str.isascii()"
   ]
  },
  {
   "cell_type": "markdown",
   "id": "0cad4a08",
   "metadata": {},
   "source": [
    "#### The isascii() method checks whether all characters in a string are ASCII characters, i.e., in the range 0 to 127 (standard English characters, digits, punctuation, control characters).\n",
    "\n",
    "#### Example:-"
   ]
  },
  {
   "cell_type": "code",
   "execution_count": null,
   "id": "812139f4-3bfe-4154-8afc-28485f0e7203",
   "metadata": {},
   "outputs": [
    {
     "name": "stdout",
     "output_type": "stream",
     "text": [
      "True\n",
      "False\n",
      "False\n"
     ]
    }
   ],
   "source": [
    "print(\"Hello123!\".isascii()) \n",
    "print(\"café\".isascii())\n",
    "print(\"Hello 😊\".isascii())"
   ]
  },
  {
   "cell_type": "markdown",
   "id": "1c83dada",
   "metadata": {},
   "source": [
    "## 15) str.isdecimal()"
   ]
  },
  {
   "cell_type": "markdown",
   "id": "c8911340",
   "metadata": {},
   "source": [
    "#### The isdecimal() method checks if all characters in a string are decimal digits (0–9) and the string is not empty.\n",
    "\n",
    "#### Example:-"
   ]
  },
  {
   "cell_type": "code",
   "execution_count": null,
   "id": "2917d79e-e9c8-43f9-bdca-38816ce6b5d9",
   "metadata": {},
   "outputs": [
    {
     "name": "stdout",
     "output_type": "stream",
     "text": [
      "True\n",
      "False\n",
      "False\n"
     ]
    }
   ],
   "source": [
    "my_string1 = \"12345\"\n",
    "my_string2 = \"12.345\"\n",
    "my_string3 = \"hello\"\n",
    "\n",
    "print(my_string1.isdecimal())\n",
    "print(my_string2.isdecimal())  \n",
    "print(my_string3.isdecimal())  \n"
   ]
  },
  {
   "cell_type": "markdown",
   "id": "1137c5d9",
   "metadata": {},
   "source": [
    "## 16) str.isdigit() "
   ]
  },
  {
   "cell_type": "markdown",
   "id": "ebbddfab",
   "metadata": {},
   "source": [
    "#### The isdigit() method checks if all characters in the string are digits — including Unicode digit characters, not just 0–9.\n",
    "\n",
    "#### Example:-"
   ]
  },
  {
   "cell_type": "code",
   "execution_count": null,
   "id": "c765d9d6-3295-4078-96f0-e58a2fd3e05c",
   "metadata": {},
   "outputs": [
    {
     "name": "stdout",
     "output_type": "stream",
     "text": [
      "True\n",
      "False\n",
      "False\n"
     ]
    }
   ],
   "source": [
    "my_string1 = \"12345\"\n",
    "my_string2 = \"12.345\"\n",
    "my_string3 = \"hello\"\n",
    "\n",
    "print(my_string1.isdigit())  \n",
    "print(my_string2.isdigit())  \n",
    "print(my_string3.isdigit())  "
   ]
  },
  {
   "cell_type": "markdown",
   "id": "b9391963",
   "metadata": {},
   "source": [
    "## 17) str.isidentifier()"
   ]
  },
  {
   "cell_type": "markdown",
   "id": "4b3eca7d",
   "metadata": {},
   "source": [
    "#### The isidentifier() method checks whether a string is a valid identifier — i.e., something you can use as a variable name, function name, etc., in Python.\n",
    "\n",
    "#### Example:-"
   ]
  },
  {
   "cell_type": "code",
   "execution_count": null,
   "id": "e350051a-0349-416f-ae0a-5a7b4e71443d",
   "metadata": {},
   "outputs": [
    {
     "name": "stdout",
     "output_type": "stream",
     "text": [
      "True\n",
      "True\n"
     ]
    }
   ],
   "source": [
    "print(\"name\".isidentifier())       \n",
    "print(\"my_variable1\".isidentifier())"
   ]
  },
  {
   "cell_type": "markdown",
   "id": "abced81d",
   "metadata": {},
   "source": [
    "## 18) str.islower() "
   ]
  },
  {
   "cell_type": "markdown",
   "id": "0766f3c3",
   "metadata": {},
   "source": [
    "#### The islower() method checks whether all the cased characters (letters) in the string are lowercase.\n",
    "\n",
    "#### Example:-"
   ]
  },
  {
   "cell_type": "code",
   "execution_count": null,
   "id": "ea0ff577-07a8-4dad-9a48-8cead00bc2da",
   "metadata": {},
   "outputs": [
    {
     "name": "stdout",
     "output_type": "stream",
     "text": [
      "True\n",
      "True\n"
     ]
    }
   ],
   "source": [
    "print(\"hello\".islower())        \n",
    "print(\"hello123\".islower())"
   ]
  },
  {
   "cell_type": "markdown",
   "id": "06f07923",
   "metadata": {},
   "source": [
    "## 19) str.isnumeric()"
   ]
  },
  {
   "cell_type": "markdown",
   "id": "fe54eb96",
   "metadata": {},
   "source": [
    "#### The isnumeric() method checks whether all characters in the string are numeric characters, including digits, Unicode numeric characters, fractions, and superscripts.\n",
    "\n",
    "#### Example:-"
   ]
  },
  {
   "cell_type": "code",
   "execution_count": null,
   "id": "d319586b-392d-465f-95cf-1309cae9ce03",
   "metadata": {},
   "outputs": [
    {
     "name": "stdout",
     "output_type": "stream",
     "text": [
      "True\n",
      "False\n",
      "False\n",
      "False\n"
     ]
    }
   ],
   "source": [
    "my_string1 = \"12345\"\n",
    "my_string2 = \"12.345\"\n",
    "my_string3 = \"=\"\n",
    "my_string4 = \"fghv\"\n",
    "\n",
    "print(my_string1.isnumeric())  \n",
    "print(my_string2.isnumeric()) \n",
    "print(my_string3.isnumeric())  \n",
    "print(my_string4.isnumeric())  "
   ]
  },
  {
   "cell_type": "markdown",
   "id": "f7bb7ee3",
   "metadata": {},
   "source": [
    "## 20) str.isprintable()"
   ]
  },
  {
   "cell_type": "markdown",
   "id": "6f7d1867",
   "metadata": {},
   "source": [
    "#### The isprintable() method checks whether all characters in the string are printable — i.e., can be seen when printed (like letters, digits, symbols, punctuation, and whitespace except special control characters like newline \\n, tab \\t, etc.).\n",
    "\n",
    "#### Example:-"
   ]
  },
  {
   "cell_type": "code",
   "execution_count": null,
   "id": "22020b7d-e7b6-463a-a779-eaa91a819961",
   "metadata": {},
   "outputs": [
    {
     "name": "stdout",
     "output_type": "stream",
     "text": [
      "True\n",
      "True\n",
      "True\n"
     ]
    }
   ],
   "source": [
    "print(\"Hello 123!\".isprintable())     \n",
    "print(\" \".isprintable())              \n",
    "print(\"😊\".isprintable())      "
   ]
  },
  {
   "cell_type": "markdown",
   "id": "69a0b7fa",
   "metadata": {},
   "source": [
    "## 21) str.isspace()"
   ]
  },
  {
   "cell_type": "markdown",
   "id": "2d747a4c",
   "metadata": {},
   "source": [
    "#### The isspace() method checks whether all characters in a string are whitespace characters — like spaces, tabs, or newlines.\n",
    "\n",
    "#### Example:-"
   ]
  },
  {
   "cell_type": "code",
   "execution_count": null,
   "id": "4c77103e-8056-422d-b4a0-26b1e7070b59",
   "metadata": {},
   "outputs": [
    {
     "name": "stdout",
     "output_type": "stream",
     "text": [
      "True\n",
      "True\n"
     ]
    }
   ],
   "source": [
    "print(\"   \".isspace())     \n",
    "print(\"\\t\\n\".isspace())"
   ]
  },
  {
   "cell_type": "markdown",
   "id": "3b6ffa51",
   "metadata": {},
   "source": [
    "## 22) str.istitle()"
   ]
  },
  {
   "cell_type": "markdown",
   "id": "f043bad2",
   "metadata": {},
   "source": [
    "#### The istitle() method checks whether a string is in title case.\n",
    "#### A string is in title case if:\n",
    "\n",
    "#### Each word starts with an uppercase letter, and\n",
    "\n",
    "#### The rest of the letters in each word are lowercase.\n",
    "\n",
    "#### Example:-\n"
   ]
  },
  {
   "cell_type": "code",
   "execution_count": null,
   "id": "21003925-cac6-455b-8e65-2222b0b0a504",
   "metadata": {},
   "outputs": [
    {
     "name": "stdout",
     "output_type": "stream",
     "text": [
      "True\n"
     ]
    }
   ],
   "source": [
    "text = \"Python Is Fun\"\n",
    "print(text.istitle())\n"
   ]
  },
  {
   "cell_type": "markdown",
   "id": "d14b0531",
   "metadata": {},
   "source": [
    "## 23) str.isupper()"
   ]
  },
  {
   "cell_type": "markdown",
   "id": "24160467",
   "metadata": {},
   "source": [
    "#### The isupper() method checks whether all the alphabetic characters in a string are uppercase.\n",
    "\n",
    "#### Example:-"
   ]
  },
  {
   "cell_type": "code",
   "execution_count": null,
   "id": "e0bac37a-51ce-45f1-ae9a-98393d0f6e7b",
   "metadata": {},
   "outputs": [
    {
     "name": "stdout",
     "output_type": "stream",
     "text": [
      "True\n",
      "True\n"
     ]
    }
   ],
   "source": [
    "print(\"HELLO\".isupper())       \n",
    "print(\"HELLO123!\".isupper())   "
   ]
  },
  {
   "cell_type": "markdown",
   "id": "c664610a",
   "metadata": {},
   "source": [
    "## 24)  str.join(iterable)"
   ]
  },
  {
   "cell_type": "markdown",
   "id": "2f46804c",
   "metadata": {},
   "source": [
    "####  The join() method returns a string by joining the elements of an iterable (like a list, tuple, or string), placing the string you call it on between each element.\n",
    "\n",
    "#### Example:-"
   ]
  },
  {
   "cell_type": "code",
   "execution_count": null,
   "id": "bae6500e-a991-4a5d-a385-b85977aa8c3a",
   "metadata": {},
   "outputs": [
    {
     "name": "stdout",
     "output_type": "stream",
     "text": [
      "Python is awesome\n"
     ]
    }
   ],
   "source": [
    "words = [\"Python\", \"is\", \"awesome\"]\n",
    "result = \" \".join(words)\n",
    "print(result)"
   ]
  },
  {
   "cell_type": "markdown",
   "id": "3a3c0a51",
   "metadata": {},
   "source": [
    "## 25)  str.ljust(width[, fillchar])"
   ]
  },
  {
   "cell_type": "markdown",
   "id": "f496da74",
   "metadata": {},
   "source": [
    "#### The ljust() method returns a left-justified string of a specified width, padding it with a fill character (default is space ' ').\n",
    "\n",
    "#### Example:-"
   ]
  },
  {
   "cell_type": "code",
   "execution_count": null,
   "id": "b631a442-a2d6-492d-ae68-921dfe506da6",
   "metadata": {},
   "outputs": [
    {
     "name": "stdout",
     "output_type": "stream",
     "text": [
      "Python    \n"
     ]
    }
   ],
   "source": [
    "text = \"Python\"\n",
    "print(text.ljust(10))"
   ]
  },
  {
   "cell_type": "markdown",
   "id": "0adf8468",
   "metadata": {},
   "source": [
    "## 26) str.lower()"
   ]
  },
  {
   "cell_type": "markdown",
   "id": "50e44d9b",
   "metadata": {},
   "source": [
    "#### The lower() method returns a copy of the string where all uppercase letters are converted to lowercase.\n",
    "\n",
    "#### Example:-"
   ]
  },
  {
   "cell_type": "code",
   "execution_count": null,
   "id": "b5c17f92-949b-4fff-afba-be4883a7c3d8",
   "metadata": {},
   "outputs": [
    {
     "name": "stdout",
     "output_type": "stream",
     "text": [
      "hello python\n"
     ]
    }
   ],
   "source": [
    "text = \"HELLO Python\"\n",
    "print(text.lower()) "
   ]
  },
  {
   "cell_type": "markdown",
   "id": "830908a6",
   "metadata": {},
   "source": [
    "## 27) str.lstrip([chars]) "
   ]
  },
  {
   "cell_type": "markdown",
   "id": "62f5bd57",
   "metadata": {},
   "source": [
    "#### The lstrip() method returns a copy of the string with leading characters removed (from the left side only).\n",
    "\n",
    "#### Example:-"
   ]
  },
  {
   "cell_type": "code",
   "execution_count": null,
   "id": "f6835d62-3222-43b9-9c74-0576ace97c15",
   "metadata": {},
   "outputs": [
    {
     "name": "stdout",
     "output_type": "stream",
     "text": [
      "Hello Python\n"
     ]
    }
   ],
   "source": [
    "text = \"   Hello Python\"\n",
    "print(text.lstrip()) "
   ]
  },
  {
   "cell_type": "markdown",
   "id": "29e41bc3",
   "metadata": {},
   "source": [
    "## 28)  str.maketrans(x, y=None, z=None)"
   ]
  },
  {
   "cell_type": "markdown",
   "id": "5ec91d79",
   "metadata": {},
   "source": [
    "#### The str.maketrans() method is used to create a translation table, which can then be used with str.translate() to replace or delete characters in a string.\n",
    "\n",
    "#### Example:-"
   ]
  },
  {
   "cell_type": "code",
   "execution_count": null,
   "id": "6e73c091-0355-4941-bb9c-2c3c525a0ed5",
   "metadata": {},
   "outputs": [
    {
     "name": "stdout",
     "output_type": "stream",
     "text": [
      "1 2 3 d\n"
     ]
    }
   ],
   "source": [
    "table = str.maketrans(\"abc\", \"123\")\n",
    "result = \"a b c d\".translate(table)\n",
    "print(result) "
   ]
  },
  {
   "cell_type": "markdown",
   "id": "bd541de2",
   "metadata": {},
   "source": [
    "## 29) str.partition(sep) "
   ]
  },
  {
   "cell_type": "markdown",
   "id": "b0617d7c",
   "metadata": {},
   "source": [
    "#### The partition() method splits a string into three parts based on the first occurrence of a separator (sep).\n",
    "\n",
    "#### Example:-"
   ]
  },
  {
   "cell_type": "code",
   "execution_count": null,
   "id": "b8267047-a574-422a-ac1a-4dd139f5beb0",
   "metadata": {},
   "outputs": [
    {
     "name": "stdout",
     "output_type": "stream",
     "text": [
      "('Hello', ',', 'Python,World')\n"
     ]
    }
   ],
   "source": [
    "text = \"Hello,Python,World\"\n",
    "print(text.partition(\",\")) "
   ]
  },
  {
   "cell_type": "markdown",
   "id": "d5d0afbd",
   "metadata": {},
   "source": [
    "## 30) str.removeprefix(prefix)"
   ]
  },
  {
   "cell_type": "markdown",
   "id": "c6f1bfbc",
   "metadata": {},
   "source": [
    "#### The removeprefix() method returns a copy of the string with the given prefix removed, if it exists.\n",
    "\n",
    "#### Example:-"
   ]
  },
  {
   "cell_type": "code",
   "execution_count": null,
   "id": "7b666e51-c0ea-417b-9bca-f8a369fbd14b",
   "metadata": {},
   "outputs": [
    {
     "name": "stdout",
     "output_type": "stream",
     "text": [
      "data_science\n"
     ]
    }
   ],
   "source": [
    "text = \"data_science\"\n",
    "print(text.removeprefix(\"ml_\"))"
   ]
  },
  {
   "cell_type": "markdown",
   "id": "2342918a",
   "metadata": {},
   "source": [
    "## 31) str.removesuffix(suffix)"
   ]
  },
  {
   "cell_type": "markdown",
   "id": "d1a7b503",
   "metadata": {},
   "source": [
    "#### The removesuffix() method returns a new string with the specified suffix removed, if it is present at the end of the string.\n",
    "\n",
    "#### Example:-"
   ]
  },
  {
   "cell_type": "code",
   "execution_count": null,
   "id": "4bdf9e2b-8476-4f0f-a60f-5de093dddd91",
   "metadata": {},
   "outputs": [
    {
     "name": "stdout",
     "output_type": "stream",
     "text": [
      "report\n"
     ]
    }
   ],
   "source": [
    "filename = \"report.pdf\"\n",
    "print(filename.removesuffix(\".pdf\")) "
   ]
  },
  {
   "cell_type": "markdown",
   "id": "46be1c70",
   "metadata": {},
   "source": [
    "## 32) str.replace(old, new[, count])"
   ]
  },
  {
   "cell_type": "markdown",
   "id": "29d82397",
   "metadata": {},
   "source": [
    "#### The replace() method returns a new string with all (or limited) occurrences of a substring replaced by another substring.\n",
    "\n",
    "#### Example:-"
   ]
  },
  {
   "cell_type": "code",
   "execution_count": null,
   "id": "56636d03-82fb-44bc-befc-3ed764b1e14e",
   "metadata": {},
   "outputs": [
    {
     "name": "stdout",
     "output_type": "stream",
     "text": [
      "orange banana orange\n"
     ]
    }
   ],
   "source": [
    "text = \"apple banana apple\"\n",
    "print(text.replace(\"apple\", \"orange\"))"
   ]
  },
  {
   "cell_type": "markdown",
   "id": "1f0429cc",
   "metadata": {},
   "source": [
    "## 33)  str.rfind(sub[, start[, end]]) "
   ]
  },
  {
   "cell_type": "markdown",
   "id": "d20e49de",
   "metadata": {},
   "source": [
    "#### The rfind() method returns the highest index (i.e., the last occurrence) of the substring sub in the given string.\n",
    "#### If the substring is not found, it returns -1.\n",
    "\n",
    "#### Example:-"
   ]
  },
  {
   "cell_type": "code",
   "execution_count": null,
   "id": "8f629ad5-d678-4259-802d-84ac84cdda9a",
   "metadata": {},
   "outputs": [
    {
     "name": "stdout",
     "output_type": "stream",
     "text": [
      "26\n"
     ]
    }
   ],
   "source": [
    "text = \"Python is popular because Python is powerful\"\n",
    "print(text.rfind(\"Python\"))\n"
   ]
  },
  {
   "cell_type": "markdown",
   "id": "18807822",
   "metadata": {},
   "source": [
    "## 34) str.rindex(sub[, start[, end]])"
   ]
  },
  {
   "cell_type": "markdown",
   "id": "c140025e",
   "metadata": {},
   "source": [
    "#### The rindex() method returns the highest index (last occurrence) of the substring sub within the string.\n",
    "#### If the substring is not found, it raises a ValueError.\n",
    "\n",
    "#### Example:-"
   ]
  },
  {
   "cell_type": "code",
   "execution_count": null,
   "id": "cc96371d-68b3-4764-aa09-1e5dacd45c41",
   "metadata": {},
   "outputs": [
    {
     "name": "stdout",
     "output_type": "stream",
     "text": [
      "15\n"
     ]
    }
   ],
   "source": [
    "text = \"Python is fun, Python is powerful\"\n",
    "print(text.rindex(\"Python\"))"
   ]
  },
  {
   "cell_type": "markdown",
   "id": "9fb89f81",
   "metadata": {},
   "source": [
    "## 35)  str.rjust(width[, fillchar]) "
   ]
  },
  {
   "cell_type": "markdown",
   "id": "46948c57",
   "metadata": {},
   "source": [
    "#### The rjust() method right-justifies a string in a field of given width by padding it on the left with the specified fillchar (default is space).\n",
    "\n",
    "#### Example"
   ]
  },
  {
   "cell_type": "code",
   "execution_count": null,
   "id": "d6e91aff-7806-43da-a1a8-d5ec6906db9a",
   "metadata": {},
   "outputs": [
    {
     "name": "stdout",
     "output_type": "stream",
     "text": [
      "    Python\n"
     ]
    }
   ],
   "source": [
    "text = \"Python\"\n",
    "print(text.rjust(10))\n"
   ]
  },
  {
   "cell_type": "markdown",
   "id": "e04ccce0",
   "metadata": {},
   "source": [
    "## 36) str.rsplit(sep=None, maxsplit=-1) "
   ]
  },
  {
   "cell_type": "markdown",
   "id": "428ab6b5",
   "metadata": {},
   "source": [
    "#### The rsplit() method splits a string into a list, starting from the right (i.e., the end of the string).\n",
    "\n",
    "#### Example:-"
   ]
  },
  {
   "cell_type": "code",
   "execution_count": null,
   "id": "7ef66bf7-1557-44a4-b070-e1c650bcfbb2",
   "metadata": {},
   "outputs": [
    {
     "name": "stdout",
     "output_type": "stream",
     "text": [
      "['Python', 'is', 'fun', 'to', 'learn']\n"
     ]
    }
   ],
   "source": [
    "text = \"Python is fun to learn\"\n",
    "print(text.rsplit())"
   ]
  },
  {
   "cell_type": "markdown",
   "id": "33ac4907",
   "metadata": {},
   "source": [
    "## 37) str.split(sep=None, maxsplit=-1) "
   ]
  },
  {
   "cell_type": "markdown",
   "id": "9a1b8453",
   "metadata": {},
   "source": [
    "#### The split() method breaks a string into a list of substrings, starting from the left.\n",
    "#### You can control the delimiter and number of splits.\n",
    "\n",
    "#### Example:-\n"
   ]
  },
  {
   "cell_type": "code",
   "execution_count": null,
   "id": "3154f45b-c354-4788-bed3-574c3bd902de",
   "metadata": {},
   "outputs": [
    {
     "name": "stdout",
     "output_type": "stream",
     "text": [
      "['Python', 'is', 'fun']\n"
     ]
    }
   ],
   "source": [
    "text = \"Python is fun\"\n",
    "print(text.split())\n"
   ]
  },
  {
   "cell_type": "markdown",
   "id": "6c66ebcc",
   "metadata": {},
   "source": [
    "## 38)  str.splitlines([keepends])"
   ]
  },
  {
   "cell_type": "markdown",
   "id": "47400688",
   "metadata": {},
   "source": [
    "#### The splitlines() method splits a string into a list of lines, breaking at line boundaries (\\n, \\r, \\r\\n, etc.).\n",
    "\n",
    "#### Example:-"
   ]
  },
  {
   "cell_type": "code",
   "execution_count": null,
   "id": "6bd47792-61e5-4ad7-8f65-fcb5869cd769",
   "metadata": {},
   "outputs": [
    {
     "name": "stdout",
     "output_type": "stream",
     "text": [
      "['Python is fun', \"Let's learn\", 'Together!']\n"
     ]
    }
   ],
   "source": [
    "text = \"Python is fun\\nLet's learn\\nTogether!\"\n",
    "print(text.splitlines())"
   ]
  },
  {
   "cell_type": "markdown",
   "id": "59cf18ce",
   "metadata": {},
   "source": [
    "## 39) str.startswith(prefix[, start[, end]])"
   ]
  },
  {
   "cell_type": "markdown",
   "id": "7e6d8c9a",
   "metadata": {},
   "source": [
    "#### The startswith() method checks if a string starts with a specific prefix.\n",
    "#### You can also specify the range to check within the string.\n",
    "\n",
    "#### Example:-"
   ]
  },
  {
   "cell_type": "code",
   "execution_count": null,
   "id": "cc864206-e8fa-4a16-a4e6-a7d95ec5d45a",
   "metadata": {},
   "outputs": [
    {
     "name": "stdout",
     "output_type": "stream",
     "text": [
      "True\n"
     ]
    }
   ],
   "source": [
    "text = \"Python programming\"\n",
    "print(text.startswith(\"Python\"))  "
   ]
  },
  {
   "cell_type": "markdown",
   "id": "b4d754ea",
   "metadata": {},
   "source": [
    "## 40) str.strip([chars])"
   ]
  },
  {
   "cell_type": "markdown",
   "id": "141fb49a",
   "metadata": {},
   "source": [
    "#### The strip() method returns a copy of the string with leading and trailing characters removed.\n",
    "\n",
    "#### Example:-"
   ]
  },
  {
   "cell_type": "code",
   "execution_count": null,
   "id": "4d3b77a8-bcbd-4751-88ba-4e96b0fdb816",
   "metadata": {},
   "outputs": [
    {
     "name": "stdout",
     "output_type": "stream",
     "text": [
      "Hello Python\n"
     ]
    }
   ],
   "source": [
    "text = \"   Hello Python   \"\n",
    "print(text.strip())\n"
   ]
  },
  {
   "cell_type": "markdown",
   "id": "496f8a5b",
   "metadata": {},
   "source": [
    "## 41)  str.swapcase()"
   ]
  },
  {
   "cell_type": "markdown",
   "id": "512a5fb6",
   "metadata": {},
   "source": [
    "#### The swapcase() method returns a new string with all uppercase letters converted to lowercase and lowercase letters converted to uppercase.\n",
    "\n",
    "#### example:-"
   ]
  },
  {
   "cell_type": "code",
   "execution_count": null,
   "id": "ba78b2a2-24da-497b-8f54-b4a492df3048",
   "metadata": {},
   "outputs": [
    {
     "name": "stdout",
     "output_type": "stream",
     "text": [
      "hELLO123 @world\n"
     ]
    }
   ],
   "source": [
    "text = \"Hello123 @WORLD\"\n",
    "print(text.swapcase())"
   ]
  },
  {
   "cell_type": "markdown",
   "id": "4e20fb7d",
   "metadata": {},
   "source": [
    "## 42) str.title() "
   ]
  },
  {
   "cell_type": "markdown",
   "id": "a7f1e31c",
   "metadata": {},
   "source": [
    "#### The title() method returns a titlecased version of the string, where each word starts with an uppercase letter and the remaining characters are lowercase.\n",
    "\n",
    "#### Example:-"
   ]
  },
  {
   "cell_type": "code",
   "execution_count": null,
   "id": "26bc7b66-9405-453a-b439-a7302f69bf2f",
   "metadata": {},
   "outputs": [
    {
     "name": "stdout",
     "output_type": "stream",
     "text": [
      "Welcome To Python-World!\n"
     ]
    }
   ],
   "source": [
    "text = \"welCome to PYTHON-world!\"\n",
    "print(text.title())\n"
   ]
  },
  {
   "cell_type": "markdown",
   "id": "2876fcec",
   "metadata": {},
   "source": [
    "## 43) str.translate(table)"
   ]
  },
  {
   "cell_type": "markdown",
   "id": "57a168e1",
   "metadata": {},
   "source": [
    "#### The translate() method returns a modified copy of the string, where each character is mapped using a translation table.\n",
    "\n",
    "#### Example:-"
   ]
  },
  {
   "cell_type": "code",
   "execution_count": null,
   "id": "17848663-fa4c-4d4b-b853-94c2a3f610b2",
   "metadata": {},
   "outputs": [
    {
     "name": "stdout",
     "output_type": "stream",
     "text": [
      "h2ll4 w4rld\n"
     ]
    }
   ],
   "source": [
    "table = str.maketrans(\"aeiou\", \"12345\")\n",
    "text = \"hello world\"\n",
    "print(text.translate(table))\n"
   ]
  },
  {
   "cell_type": "markdown",
   "id": "ddf4fb6c",
   "metadata": {},
   "source": [
    "## 44) str.upper()"
   ]
  },
  {
   "cell_type": "markdown",
   "id": "bd8593d7",
   "metadata": {},
   "source": [
    "#### The upper() method returns a new string where all lowercase letters are converted to uppercase.\n",
    "\n",
    "#### Example:-"
   ]
  },
  {
   "cell_type": "code",
   "execution_count": null,
   "id": "a3c9478b-9d34-4cc4-a7f0-10040098920a",
   "metadata": {},
   "outputs": [
    {
     "name": "stdout",
     "output_type": "stream",
     "text": [
      "SNEHA123@PYTHON\n"
     ]
    }
   ],
   "source": [
    "text = \"Sneha123@python\"\n",
    "print(text.upper())"
   ]
  },
  {
   "cell_type": "markdown",
   "id": "19f2767c",
   "metadata": {},
   "source": [
    "## 45) str.zfill(width)"
   ]
  },
  {
   "cell_type": "markdown",
   "id": "5517b01b",
   "metadata": {},
   "source": [
    "#### The zfill() method returns a new string that pads the original string on the left with zeros (0) until it reaches the specified width.\n",
    "\n",
    "#### Example:-"
   ]
  },
  {
   "cell_type": "code",
   "execution_count": null,
   "id": "dec01624-e873-45f7-9f89-468ef302c013",
   "metadata": {},
   "outputs": [
    {
     "name": "stdout",
     "output_type": "stream",
     "text": [
      "00042\n"
     ]
    }
   ],
   "source": [
    "num = \"42\"\n",
    "print(num.zfill(5))\n"
   ]
  }
 ],
 "metadata": {
  "kernelspec": {
   "display_name": "Python 3 (ipykernel)",
   "language": "python",
   "name": "python3"
  },
  "language_info": {
   "codemirror_mode": {
    "name": "ipython",
    "version": 3
   },
   "file_extension": ".py",
   "mimetype": "text/x-python",
   "name": "python",
   "nbconvert_exporter": "python",
   "pygments_lexer": "ipython3",
   "version": "3.13.5"
  }
 },
 "nbformat": 4,
 "nbformat_minor": 5
}
