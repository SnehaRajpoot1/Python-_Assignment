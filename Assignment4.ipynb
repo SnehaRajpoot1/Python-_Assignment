{
 "cells": [
  {
   "cell_type": "markdown",
   "id": "dd25fe7c",
   "metadata": {},
   "source": [
    "#                         PYTHON ASSIGNMENT"
   ]
  },
  {
   "cell_type": "markdown",
   "id": "d59f387a",
   "metadata": {},
   "source": [
    "#### Q1) Write a program to calculate the electricity bill using only if statement? (accept number of unit from user )according to the following criteria:\n",
    "\n",
    "\n",
    "#### First 100 units                     no charge\n",
    "#### Next 100 units                      Rs 5 per unit\n",
    "#### After 200 units                     Rs 10 per unit\n",
    "#### (For example, if input unit is 350 than total bill amount is Rs 2000). Lets explain...\n",
    "#### For first 100 no charges\n",
    "#### Now you have 250 unit remaining\n",
    "#### 100-200 you need to pay 100*5 = 500\\\n",
    "#### Now 200-100 you need to pay 150*10 = 1500\n",
    "#### Total = 500+500 = 2000"
   ]
  },
  {
   "cell_type": "code",
   "execution_count": 1,
   "id": "e2c76456-e463-4bbf-9000-3626ba2c35b8",
   "metadata": {},
   "outputs": [
    {
     "name": "stdout",
     "output_type": "stream",
     "text": [
      "Enter the number of units consumed:  350\n"
     ]
    },
    {
     "name": "stdout",
     "output_type": "stream",
     "text": [
      "Total electricity bill: ₹ 2000\n"
     ]
    }
   ],
   "source": [
    "units = int(input(\"Enter the number of units consumed: \"))\n",
    "bill = 0 \n",
    "if units > 200:\n",
    "    bill = bill + (units - 200) * 10\n",
    "    units = 200 \n",
    "if units > 100:\n",
    "    bill = bill + (units - 100) * 5\n",
    "    units = 100 \n",
    "if units <= 100:\n",
    "    bill = bill + 0\n",
    "print(\"Total electricity bill: ₹\", bill)"
   ]
  },
  {
   "cell_type": "markdown",
   "id": "920a3f0c",
   "metadata": {},
   "source": [
    "#### Q2). Write a program to accept percentage from the user and display the grade according to the following criteria:\n",
    "\n",
    "#### Marks Grade\n",
    "#### > 90 A\n",
    "#### > 80 and <= 90 B\n",
    "#### >= 60 and <= 80 C\n",
    "#### below 60 D"
   ]
  },
  {
   "cell_type": "code",
   "execution_count": 2,
   "id": "270b83d5-b5b2-4f23-a608-a0039fb9be18",
   "metadata": {},
   "outputs": [
    {
     "name": "stdout",
     "output_type": "stream",
     "text": [
      "Enter your percentage:  85\n"
     ]
    },
    {
     "name": "stdout",
     "output_type": "stream",
     "text": [
      "Grade: B\n"
     ]
    }
   ],
   "source": [
    "percentage = float(input(\"Enter your percentage: \"))\n",
    "if percentage > 90:\n",
    "    print(\"Grade: A\")\n",
    "elif percentage > 80 and percentage <= 90:\n",
    "    print(\"Grade: B\")\n",
    "elif percentage >= 60 and percentage <= 80:\n",
    "    print(\"Grade: C\")\n",
    "else:\n",
    "    print(\"Grade: D\")"
   ]
  },
  {
   "cell_type": "markdown",
   "id": "8929405a",
   "metadata": {},
   "source": [
    "#### Q3). Accept the age of 4 people and display the youngest one?"
   ]
  },
  {
   "cell_type": "code",
   "execution_count": 3,
   "id": "a424124c-b69b-4871-9e27-2b5b64d9056a",
   "metadata": {},
   "outputs": [
    {
     "name": "stdout",
     "output_type": "stream",
     "text": [
      "Enter age of person 1:  12\n",
      "Enter age of person 2:  43\n",
      "Enter age of person 3:  23\n",
      "Enter age of person 4:  76\n"
     ]
    },
    {
     "name": "stdout",
     "output_type": "stream",
     "text": [
      "The youngest age is: 12\n"
     ]
    }
   ],
   "source": [
    "age1 = int(input(\"Enter age of person 1: \"))\n",
    "age2 = int(input(\"Enter age of person 2: \"))\n",
    "age3 = int(input(\"Enter age of person 3: \"))\n",
    "age4 = int(input(\"Enter age of person 4: \"))\n",
    "youngest = age1\n",
    "if age2 < youngest:\n",
    "    youngest = age2\n",
    "if age3 < youngest:\n",
    "    youngest = age3\n",
    "if age4 < youngest:\n",
    "    youngest = age4\n",
    "print(\"The youngest age is:\", youngest)"
   ]
  },
  {
   "cell_type": "markdown",
   "id": "024b7ea8",
   "metadata": {},
   "source": [
    "#### Q4. A company decided to give bonus to employee according to following criteria:\n",
    "\n",
    "#### Time period of Service Bonus\n",
    "\n",
    "#### More than 10 years 10%\n",
    "\n",
    "#### >=6 and <=10 8%\n",
    "\n",
    "#### Less than 6 years 5%\n",
    "\n",
    "#### Ask user for their salary and years of service and print the net bonus amount?"
   ]
  },
  {
   "cell_type": "code",
   "execution_count": 4,
   "id": "ab0102a5-8c05-47f0-b9b5-4ea88fe1c8b5",
   "metadata": {},
   "outputs": [
    {
     "name": "stdout",
     "output_type": "stream",
     "text": [
      "Enter your salary:  30000\n",
      "Enter your years of service:  2\n"
     ]
    },
    {
     "name": "stdout",
     "output_type": "stream",
     "text": [
      "Your bonus amount is: ₹ 1500.0\n"
     ]
    }
   ],
   "source": [
    "salary = float(input(\"Enter your salary: \"))\n",
    "years = int(input(\"Enter your years of service: \"))\n",
    "if years > 10:\n",
    "    bonus = 0.10 * salary\n",
    "elif years >= 6 and years <= 10:\n",
    "    bonus = 0.08 * salary\n",
    "else:\n",
    "    bonus = 0.05 * salary\n",
    "print(\"Your bonus amount is: ₹\", bonus)"
   ]
  },
  {
   "cell_type": "markdown",
   "id": "864023cb",
   "metadata": {},
   "source": [
    "#### Q5. Accept three numbers from the user and display the second largest number?"
   ]
  },
  {
   "cell_type": "code",
   "execution_count": 5,
   "id": "610a48b5-7c6a-4be8-9e60-6a9bd4f87582",
   "metadata": {},
   "outputs": [
    {
     "name": "stdout",
     "output_type": "stream",
     "text": [
      "Enter first number:  52\n",
      "Enter second number:  86\n",
      "Enter third number:  94\n"
     ]
    },
    {
     "name": "stdout",
     "output_type": "stream",
     "text": [
      "The second largest number is: 86\n"
     ]
    }
   ],
   "source": [
    "a = int(input(\"Enter first number: \"))\n",
    "b = int(input(\"Enter second number: \"))\n",
    "c = int(input(\"Enter third number: \"))\n",
    "if (a > b and a < c) or (a > c and a < b):\n",
    "    second_largest = a\n",
    "elif (b > a and b < c) or (b > c and b < a):\n",
    "    second_largest = b\n",
    "else:\n",
    "    second_largest = c\n",
    "print(\"The second largest number is:\", second_largest)"
   ]
  },
  {
   "cell_type": "markdown",
   "id": "5ce2ecd9",
   "metadata": {},
   "source": [
    "#### Q6. Accept the marked price from the user and calculate the Net amount as (Marked Price – Discount) to pay according to following criteria:\n",
    "\n",
    "#### Marked Price Discount\n",
    "#### >10000 20%\n",
    "#### >7000 and <=10000 15%\n",
    "#### <=7000 10%"
   ]
  },
  {
   "cell_type": "code",
   "execution_count": 6,
   "id": "0d16292c-b2c6-4542-9f39-4b781a350fdc",
   "metadata": {},
   "outputs": [
    {
     "name": "stdout",
     "output_type": "stream",
     "text": [
      "Enter the marked price:   8500\n"
     ]
    },
    {
     "name": "stdout",
     "output_type": "stream",
     "text": [
      "Discount amount: ₹ 1275.0\n",
      "Net amount to pay: ₹ 7225.0\n"
     ]
    }
   ],
   "source": [
    "price = float(input(\"Enter the marked price: \"))\n",
    "if price > 10000:\n",
    "    discount = 0.20\n",
    "elif price > 7000 and price <= 10000:\n",
    "    discount = 0.15\n",
    "else:\n",
    "    discount = 0.10\n",
    "discount_amount = price * discount\n",
    "net_amount = price - discount_amount\n",
    "print(\"Discount amount: ₹\", discount_amount)\n",
    "print(\"Net amount to pay: ₹\", net_amount)"
   ]
  },
  {
   "cell_type": "markdown",
   "id": "36df8fab",
   "metadata": {},
   "source": [
    "#### Q7. Accept the marks of English, Math and Science, Social Studies Subject and display the stream allotted according to following:\n",
    "\n",
    "#### All Subjects more than 80 marks — Science Stream\n",
    "\n",
    "#### English >80 and Math, Science above 50 — Commerce Stream\n",
    "\n",
    "#### English > 80 and social studies > 80 — Humanities"
   ]
  },
  {
   "cell_type": "code",
   "execution_count": 10,
   "id": "2212bea1-60b0-4f8d-a2fc-08b156d714fd",
   "metadata": {},
   "outputs": [
    {
     "name": "stdout",
     "output_type": "stream",
     "text": [
      "Enter marks in English:  76\n",
      "Enter marks in Math:  75\n",
      "Enter marks in Science:  75\n",
      "Enter marks in Social Studies:  83\n"
     ]
    },
    {
     "name": "stdout",
     "output_type": "stream",
     "text": [
      "No stream allotted\n"
     ]
    }
   ],
   "source": [
    "eng = int(input(\"Enter marks in English: \"))\n",
    "math = int(input(\"Enter marks in Math: \"))\n",
    "sci = int(input(\"Enter marks in Science: \"))\n",
    "sst = int(input(\"Enter marks in Social Studies: \"))\n",
    "if eng > 80 and math > 80 and sci > 80 and sst > 80:\n",
    "    print(\"Stream Allotted: Science\")\n",
    "elif eng > 80 and math > 80 and sci > 50:\n",
    "    print(\"Stream Allotted: Commerce\")\n",
    "elif eng > 80 and sst > 80:\n",
    "    print(\"Stream Allotted: Humanities\")\n",
    "else:\n",
    "    print(\"No stream allotted\")"
   ]
  },
  {
   "cell_type": "markdown",
   "id": "e10fe19d",
   "metadata": {},
   "source": [
    "#### Q8. Write a program to display \"Hello\" if a number entered by user is a multiple of five, otherwise print \"Bye\"?"
   ]
  },
  {
   "cell_type": "code",
   "execution_count": 12,
   "id": "8e3bb17a-2b57-49fc-9e8d-c414a29f8a08",
   "metadata": {},
   "outputs": [
    {
     "name": "stdout",
     "output_type": "stream",
     "text": [
      "Enter a number:  65\n"
     ]
    },
    {
     "name": "stdout",
     "output_type": "stream",
     "text": [
      "Hello\n"
     ]
    }
   ],
   "source": [
    "num = int(input(\"Enter a number: \"))\n",
    "if num % 5 == 0:\n",
    "    print(\"Hello\")\n",
    "else:\n",
    "    print(\"Bye\")"
   ]
  },
  {
   "cell_type": "markdown",
   "id": "224ff3a8",
   "metadata": {},
   "source": [
    "#### Q9. Write a program to check whether the last digit of a number (entered by user) is divisible by 3 or not?"
   ]
  },
  {
   "cell_type": "code",
   "execution_count": 13,
   "id": "e542f7df-20b1-419d-b301-7363f2a49b25",
   "metadata": {},
   "outputs": [
    {
     "name": "stdout",
     "output_type": "stream",
     "text": [
      "Enter a number:  55\n"
     ]
    },
    {
     "name": "stdout",
     "output_type": "stream",
     "text": [
      "Last digit is not divisible by 3\n"
     ]
    }
   ],
   "source": [
    "num = int(input(\"Enter a number: \"))\n",
    "last_digit = num % 10\n",
    "if last_digit % 3 == 0:\n",
    "    print(\"Last digit is divisible by 3\")\n",
    "else:\n",
    "    print(\"Last digit is not divisible by 3\")"
   ]
  },
  {
   "cell_type": "markdown",
   "id": "0dbdd93d",
   "metadata": {},
   "source": [
    "#### Q10. Write a program to check whether a number entered is three-digit number or not?"
   ]
  },
  {
   "cell_type": "code",
   "execution_count": 14,
   "id": "67f1c805-0d2a-4bd6-9a79-9ef8b32abb8a",
   "metadata": {},
   "outputs": [
    {
     "name": "stdout",
     "output_type": "stream",
     "text": [
      "Enter a number:  50000\n"
     ]
    },
    {
     "name": "stdout",
     "output_type": "stream",
     "text": [
      "This is NOT a three-digit number\n"
     ]
    }
   ],
   "source": [
    "num = int(input(\"Enter a number: \"))\n",
    "if num >= 100 and num <= 999:\n",
    "    print(\"This is a three-digit number\")\n",
    "else:\n",
    "    print(\"This is NOT a three-digit number\")"
   ]
  }
 ],
 "metadata": {
  "kernelspec": {
   "display_name": "Python 3 (ipykernel)",
   "language": "python",
   "name": "python3"
  },
  "language_info": {
   "codemirror_mode": {
    "name": "ipython",
    "version": 3
   },
   "file_extension": ".py",
   "mimetype": "text/x-python",
   "name": "python",
   "nbconvert_exporter": "python",
   "pygments_lexer": "ipython3",
   "version": "3.13.5"
  }
 },
 "nbformat": 4,
 "nbformat_minor": 5
}
