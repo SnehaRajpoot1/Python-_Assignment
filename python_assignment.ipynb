{
 "cells": [
  {
   "cell_type": "markdown",
   "id": "4a4df6fc",
   "metadata": {},
   "source": [
    "# PYTHON ASSIGNMENT"
   ]
  },
  {
   "cell_type": "markdown",
   "id": "35c1a2fc",
   "metadata": {
    "vscode": {
     "languageId": "plaintext"
    }
   },
   "source": [
    "#### Q1. In the below  elements which of them are values or an expression? eg:- values can be integer or string and expression will be mathematical operators."
   ]
  },
  {
   "cell_type": "markdown",
   "id": "f658b708",
   "metadata": {
    "vscode": {
     "languageId": "plaintext"
    }
   },
   "source": [
    "\n",
    " `*`       Expression (Operator) \n",
    " `'hello'`  Value (String)        \n",
    " `-87.8`    Value (Float)\n",
    " `-`        Expression (Operator)\n",
    " `/`        Expression (Operator) \n",
    " `+`        Expression (Operator)\n",
    " `6`        Value (Integer)       \n"
   ]
  },
  {
   "cell_type": "markdown",
   "id": "c9357e0b",
   "metadata": {
    "vscode": {
     "languageId": "plaintext"
    }
   },
   "source": [
    "#### Q2. What is the difference between string and variable?"
   ]
  },
  {
   "cell_type": "markdown",
   "id": "6a98a97d",
   "metadata": {
    "vscode": {
     "languageId": "plaintext"
    }
   },
   "source": [
    "1. String is a sequence of characters enclosed in quotes ('hello', \"123\").\n",
    "\n",
    "2. Variable is a name used to store data (like numbers, strings, etc.) in memory. For example, name = \"hello\"."
   ]
  },
  {
   "cell_type": "markdown",
   "id": "cf9f0699",
   "metadata": {
    "vscode": {
     "languageId": "plaintext"
    }
   },
   "source": [
    "#### Q3. Describe three different data types."
   ]
  },
  {
   "cell_type": "markdown",
   "id": "a504b9c7",
   "metadata": {
    "vscode": {
     "languageId": "plaintext"
    }
   },
   "source": [
    "1. Integer – Whole numbers (e.g., 5, -12)\n",
    "\n",
    "2. Float – Decimal numbers (e.g., 3.14, -0.5)\n",
    "\n",
    "3. String – Text data enclosed in quotes (e.g., 'Python')\n",
    "\n"
   ]
  },
  {
   "cell_type": "markdown",
   "id": "be82536d",
   "metadata": {
    "vscode": {
     "languageId": "plaintext"
    }
   },
   "source": [
    "#### Q4. What is an expression made up of? What do all expressions do?"
   ]
  },
  {
   "cell_type": "markdown",
   "id": "64d613c3",
   "metadata": {
    "vscode": {
     "languageId": "plaintext"
    }
   },
   "source": [
    "1. An expression is made up of values, variables, and operators.\n",
    "\n",
    "2. All expressions evaluate to a single result."
   ]
  },
  {
   "cell_type": "markdown",
   "id": "895a92cc",
   "metadata": {
    "vscode": {
     "languageId": "plaintext"
    }
   },
   "source": [
    "#### Q5. This assignment statements, like spam = 10. What is the difference between an expression and a statement?"
   ]
  },
  {
   "cell_type": "markdown",
   "id": "b39ebfdc",
   "metadata": {},
   "source": [
    "Ans. An expression evaluates to a value (e.g., 2 + 3 evaluates to 5). A statement is a complete instruction that performs an action (e.g., spam = 10 assigns the value 10 to the variable spam)."
   ]
  },
  {
   "cell_type": "markdown",
   "id": "6c3344c4",
   "metadata": {},
   "source": [
    "#### Q6. After running the following code, what does the variable bacon contain?\n",
    "\n",
    "bacon = 22\n",
    "\n",
    "bacon + 1"
   ]
  },
  {
   "cell_type": "code",
   "execution_count": null,
   "id": "67547b35",
   "metadata": {},
   "outputs": [],
   "source": [
    "bacon = 22\n",
    "bacon + 1\n",
    "print(bacon)\n",
    "#bacon variables contains 22"
   ]
  },
  {
   "cell_type": "markdown",
   "id": "6a1e4d71",
   "metadata": {},
   "source": [
    "#### Q7. What should the values of the following two terms be?\n",
    "\n",
    "'spam' + 'spamspam'\n",
    "\n",
    "'spam' * 3"
   ]
  },
  {
   "cell_type": "code",
   "execution_count": null,
   "id": "7a2d5564",
   "metadata": {},
   "outputs": [],
   "source": [
    "a = 'spam' + 'spamspam'\n",
    "print(a) # output: spamspamspam\n",
    "b = 'spam' * 3\n",
    "print(b) # output: spamspamspam"
   ]
  },
  {
   "cell_type": "markdown",
   "id": "983551b9",
   "metadata": {},
   "source": [
    "#### Q8. Why is eggs a valid name while 100 is invalid?"
   ]
  },
  {
   "cell_type": "markdown",
   "id": "54bd00d9",
   "metadata": {},
   "source": [
    "Ans. eggs is a valid variable name because it starts with a letter. 100 is invalid because variable names in most programming languages cannot start with a number."
   ]
  },
  {
   "cell_type": "markdown",
   "id": "824521ca",
   "metadata": {},
   "source": [
    "#### Q9. What three functions can be used to get the integer, floating-point number, or string version of a value?"
   ]
  },
  {
   "cell_type": "markdown",
   "id": "45cbaed6",
   "metadata": {},
   "source": [
    "int(): Converts to an integer.\n",
    "float(): Converts to a floating-point number.\n",
    "str(): Converts to a string.\n",
    "\n"
   ]
  },
  {
   "cell_type": "markdown",
   "id": "811f5470",
   "metadata": {},
   "source": [
    "#### Q10. Why does this expression cause an error? How can you fix it?\n",
    "\n",
    "'I have eaten' + 99 + 'burritos.'"
   ]
  },
  {
   "cell_type": "code",
   "execution_count": null,
   "id": "7e867566",
   "metadata": {},
   "outputs": [],
   "source": [
    "'I have eaten ' + 99 + ' burritos.'\n",
    "\n",
    "This expression causes a TypeError because you are trying to concatenate a string ('I have eaten ') directly with an integer (99).\n",
    " You can fix it by converting the integer to a string using str():\n",
    "\n",
    "'I have eaten ' + str(99) + ' burritos.'\n"
   ]
  }
 ],
 "metadata": {
  "language_info": {
   "name": "python"
  }
 },
 "nbformat": 4,
 "nbformat_minor": 5
}
