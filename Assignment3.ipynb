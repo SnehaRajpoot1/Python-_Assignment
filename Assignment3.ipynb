{
 "cells": [
  {
   "cell_type": "code",
   "execution_count": 2,
   "id": "288b0ac4-693d-4731-a0d7-b931eb05761a",
   "metadata": {},
   "outputs": [],
   "source": [
    "# pip install python-docx"
   ]
  },
  {
   "cell_type": "code",
   "execution_count": 9,
   "id": "85370c9d-d99e-4bdb-80d1-efbbafdc7991",
   "metadata": {},
   "outputs": [
    {
     "name": "stdin",
     "output_type": "stream",
     "text": [
      "Enter the candidate's full name :  Rohit Kumar\n",
      "Enter the candidate's post or designation :  Python Developer\n",
      "Enter the candidate's address :  A/52 Sector  16 Noida UP \n",
      "Enter the ctc offered :  2545558562\n",
      "Enter the candidate's email :  RKT6543@gmail.com \n",
      "Enter the date of joining :   01-01-20213\n",
      "Enter the respective person's name :  Sunil Kumar\n"
     ]
    },
    {
     "name": "stdout",
     "output_type": "stream",
     "text": [
      "offer letter created and saved as -R-o-h-i-t- -K-u-m-a-r-_Offer_Letter1.docx\n"
     ]
    }
   ],
   "source": [
    "from docx import Document\n",
    "\n",
    "Full_name = input(\"Enter the candidate's full name : \")\n",
    "Designation = input(\"Enter the candidate's post or designation : \")\n",
    "Address = input(\"Enter the candidate's address : \")\n",
    "Ctc = input(\"Enter the ctc offered : \")\n",
    "Email = input(\"Enter the candidate's email : \")\n",
    "Date_of_joining = input(\"Enter the date of joining : \")\n",
    "Respective_person = input(\"Enter the respective person's name : \")\n",
    "\n",
    "document = Document()\n",
    "\n",
    "document.add_heading(\"Offer of Employment\",0)\n",
    "\n",
    "offer_letter_content = f\"\"\"\n",
    "{Address}\n",
    "\n",
    "Dear {Full_name},\n",
    "\n",
    "Subject: Offer of Employment for the position of {Designation }\n",
    "\n",
    "We are delighted to extend this formal offer of employment to you for the position of {Designation} at our organization. Based on your qualifications and the skills you demonstrated during the recruitment process, we are confident that you will be a valuable addition to our team.\n",
    "\n",
    "As discussed, your expected date of joining is {Date_of_joining}. Your total compensation package will be {Ctc}, which includes all salary components as per the company’s policy. Further details regarding your compensation will be provided in your employment contract.\n",
    "\n",
    "We expect you to bring your best efforts to help the company achieve its goals, and we are committed to supporting your professional growth during your time with us.\n",
    "\n",
    "Please confirm your acceptance of this offer by sending an email to {Email} at your earliest convenience. Should you have any queries regarding this offer, feel free to reach out to us.\n",
    "\n",
    "We look forward to having you onboard and are excited about the great things we can accomplish together.\n",
    "\n",
    "Sincerely,\n",
    "\n",
    "{Respective_person}\n",
    "HR Manager\n",
    "\"\"\"\n",
    "document.add_paragraph (offer_letter_content)\n",
    "\n",
    "file_name = f\"{Full_name.replace('','-')}_Offer_Letter1.docx\"\n",
    "document.save(file_name)\n",
    "\n",
    "\n",
    "print(f\"offer letter created and saved as {file_name}\")\n"
   ]
  },
  {
   "cell_type": "code",
   "execution_count": null,
   "id": "ca4b8a6a-c4dd-488d-80ff-2b3847bc9a13",
   "metadata": {},
   "outputs": [],
   "source": []
  }
 ],
 "metadata": {
  "kernelspec": {
   "display_name": "Python 3 (ipykernel)",
   "language": "python",
   "name": "python3"
  },
  "language_info": {
   "codemirror_mode": {
    "name": "ipython",
    "version": 3
   },
   "file_extension": ".py",
   "mimetype": "text/x-python",
   "name": "python",
   "nbconvert_exporter": "python",
   "pygments_lexer": "ipython3",
   "version": "3.13.5"
  }
 },
 "nbformat": 4,
 "nbformat_minor": 5
}
